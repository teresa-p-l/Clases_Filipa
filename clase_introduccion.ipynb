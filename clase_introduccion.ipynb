{
 "cells": [
  {
   "cell_type": "code",
   "execution_count": 1,
   "metadata": {},
   "outputs": [
    {
     "name": "stdout",
     "output_type": "stream",
     "text": [
      "hi\n"
     ]
    }
   ],
   "source": [
    "print(\"hi\")"
   ]
  },
  {
   "cell_type": "code",
   "execution_count": 2,
   "metadata": {},
   "outputs": [
    {
     "name": "stdout",
     "output_type": "stream",
     "text": [
      "140.71004226562505\n"
     ]
    }
   ],
   "source": [
    "initial = 100\n",
    "ir=5\n",
    "years=7\n",
    "final = initial*(1+ir/100)**years\n",
    "print(final)"
   ]
  },
  {
   "cell_type": "code",
   "execution_count": 3,
   "metadata": {},
   "outputs": [
    {
     "data": {
      "text/plain": [
       "True"
      ]
     },
     "execution_count": 3,
     "metadata": {},
     "output_type": "execute_result"
    }
   ],
   "source": [
    "initial == 100"
   ]
  },
  {
   "cell_type": "code",
   "execution_count": 4,
   "metadata": {},
   "outputs": [
    {
     "data": {
      "text/plain": [
       "False"
      ]
     },
     "execution_count": 4,
     "metadata": {},
     "output_type": "execute_result"
    }
   ],
   "source": [
    "initial ==200"
   ]
  },
  {
   "cell_type": "code",
   "execution_count": 5,
   "metadata": {},
   "outputs": [
    {
     "name": "stdout",
     "output_type": "stream",
     "text": [
      "100\n",
      "200\n"
     ]
    }
   ],
   "source": [
    "print(initial)\n",
    "initial = 200\n",
    "print(initial)\n"
   ]
  },
  {
   "cell_type": "code",
   "execution_count": 6,
   "metadata": {},
   "outputs": [],
   "source": [
    "initial = 100\n"
   ]
  },
  {
   "cell_type": "code",
   "execution_count": 7,
   "metadata": {},
   "outputs": [
    {
     "name": "stdout",
     "output_type": "stream",
     "text": [
      "<class 'str'>\n",
      "<class 'int'>\n",
      "<class 'float'>\n",
      "<class 'str'>\n",
      "<class 'bool'>\n"
     ]
    }
   ],
   "source": [
    "name=\"My name is Teresa\" #string\n",
    "a=2 #integer\n",
    "b=2. #float\n",
    "c=\"2\" #string\n",
    "d=True #boolean\n",
    "\n",
    "print(type(name))\n",
    "print(type(a))\n",
    "print(type(b))\n",
    "print(type(c))\n",
    "print(type(d))\n"
   ]
  },
  {
   "cell_type": "code",
   "execution_count": 9,
   "metadata": {},
   "outputs": [
    {
     "name": "stdout",
     "output_type": "stream",
     "text": [
      "1.0\n",
      "0.9999999999999999\n"
     ]
    }
   ],
   "source": [
    "v1=1/51*51\n",
    "v2=1/49*49\n",
    "\n",
    "print(v1)\n",
    "print(v2)\n"
   ]
  },
  {
   "cell_type": "code",
   "execution_count": 10,
   "metadata": {},
   "outputs": [
    {
     "name": "stdout",
     "output_type": "stream",
     "text": [
      "True\n",
      "False\n"
     ]
    }
   ],
   "source": [
    "print(v1==1)\n",
    "print(v2==1)\n"
   ]
  },
  {
   "cell_type": "code",
   "execution_count": 11,
   "metadata": {},
   "outputs": [
    {
     "name": "stdout",
     "output_type": "stream",
     "text": [
      "True\n"
     ]
    }
   ],
   "source": [
    "tol=1e-10\n",
    "print(abs(v1-1)<tol)"
   ]
  },
  {
   "cell_type": "code",
   "execution_count": null,
   "metadata": {},
   "outputs": [
    {
     "name": "stdout",
     "output_type": "stream",
     "text": [
      "(3.142, 3.1416)\n"
     ]
    }
   ],
   "source": [
    "pi=3.1415926535\n",
    "print(f\"({pi:.3f}, {pi:.5})\")\n",
    "#this will print (3.142, 3.1416)\n",
    "#the :.3f means print the float with 3 decimal places and the :.4 means print the float with 4 numbers (total)\n",
    "#the f in front of the string means that it is a formatted string"
   ]
  },
  {
   "cell_type": "code",
   "execution_count": 7,
   "metadata": {},
   "outputs": [
    {
     "name": "stdout",
     "output_type": "stream",
     "text": [
      "10000000000\n",
      "A thousand times large is 1e+10\n"
     ]
    }
   ],
   "source": [
    "large=10000000000\n",
    "print(large)\n",
    "print(f\"A thousand times large is {large:g}\")\n",
    "#the command g will print the number in scientific notation if it is too large or too small"
   ]
  },
  {
   "cell_type": "markdown",
   "metadata": {},
   "source": [
    "Now we are doing loops"
   ]
  },
  {
   "cell_type": "code",
   "execution_count": 8,
   "metadata": {},
   "outputs": [],
   "source": [
    "initial=100\n",
    "ir=5\n",
    "years=7 \n",
    "final=initial*(1+ir/100)**years\n"
   ]
  },
  {
   "cell_type": "code",
   "execution_count": null,
   "metadata": {},
   "outputs": [
    {
     "name": "stdout",
     "output_type": "stream",
     "text": [
      "After 0 years, the final amount is 100.00\n",
      "After 1 years, the final amount is 105.00\n",
      "After 2 years, the final amount is 110.25\n",
      "After 3 years, the final amount is 115.76\n",
      "After 4 years, the final amount is 121.55\n",
      "After 5 years, the final amount is 127.63\n",
      "After 6 years, the final amount is 134.01\n",
      "After 7 years, the final amount is 140.71\n",
      "After 8 years, the final amount is 147.75\n",
      "After 9 years, the final amount is 155.13\n",
      "After 10 years, the final amount is 162.89\n"
     ]
    }
   ],
   "source": [
    "for i in range(11): #the command range(11) creates a list of numbers from 0 to 10, it goes from 0 to N-1 in steps of 1\n",
    "    final=initial*(1+ir/100)**i\n",
    "    print(f\"After {i} years, the final amount is {final:.2f}\")\n",
    "    #alternatively, one can creata a list startinf in a and ending in b with steps of s with the command range(a,b,s)"
   ]
  },
  {
   "cell_type": "code",
   "execution_count": 12,
   "metadata": {},
   "outputs": [
    {
     "name": "stdout",
     "output_type": "stream",
     "text": [
      "la multiplicación de 0 por 0 es igual a 0\n",
      "la multiplicación de 0 por 1 es igual a 0\n",
      "la multiplicación de 0 por 2 es igual a 0\n",
      "la multiplicación de 0 por 3 es igual a 0\n",
      "la multiplicación de 0 por 4 es igual a 0\n",
      "la multiplicación de 0 por 5 es igual a 0\n",
      "la multiplicación de 0 por 6 es igual a 0\n",
      "la multiplicación de 1 por 0 es igual a 0\n",
      "la multiplicación de 1 por 1 es igual a 1\n",
      "la multiplicación de 1 por 2 es igual a 2\n",
      "la multiplicación de 1 por 3 es igual a 3\n",
      "la multiplicación de 1 por 4 es igual a 4\n",
      "la multiplicación de 1 por 5 es igual a 5\n",
      "la multiplicación de 1 por 6 es igual a 6\n",
      "la multiplicación de 2 por 0 es igual a 0\n",
      "la multiplicación de 2 por 1 es igual a 2\n",
      "la multiplicación de 2 por 2 es igual a 4\n",
      "la multiplicación de 2 por 3 es igual a 6\n",
      "la multiplicación de 2 por 4 es igual a 8\n",
      "la multiplicación de 2 por 5 es igual a 10\n",
      "la multiplicación de 2 por 6 es igual a 12\n"
     ]
    }
   ],
   "source": [
    "for m in range(3):\n",
    "    for k in range(7): #This is a nested loop\n",
    "        print(f\"la multiplicación de {m} por {k} es igual a {m*k}\")"
   ]
  },
  {
   "cell_type": "markdown",
   "metadata": {},
   "source": [
    "Write a loop that calculates the sum of all untergers from 1 to N and print the result"
   ]
  },
  {
   "cell_type": "code",
   "execution_count": 18,
   "metadata": {},
   "outputs": [
    {
     "name": "stdout",
     "output_type": "stream",
     "text": [
      "55\n"
     ]
    }
   ],
   "source": [
    "num=0\n",
    "for i in range(11):\n",
    "    num=num+i\n",
    "\n",
    "print(num)"
   ]
  },
  {
   "cell_type": "code",
   "execution_count": 9,
   "metadata": {},
   "outputs": [
    {
     "name": "stdout",
     "output_type": "stream",
     "text": [
      "After 0 years, the final amount is 100.00\n",
      "After 1 years, the final amount is 104.00\n",
      "After 2 years, the final amount is 108.16\n",
      "After 3 years, the final amount is 112.49\n",
      "After 4 years, the final amount is 116.99\n",
      "After 5 years, the final amount is 121.67\n",
      "After 6 years, the final amount is 126.53\n",
      "After 7 years, the final amount is 131.59\n",
      "After 8 years, the final amount is 136.86\n",
      "After 9 years, the final amount is 142.33\n",
      "After 10 years, the final amount is 148.02\n",
      "done\n"
     ]
    }
   ],
   "source": [
    "i=0\n",
    "initial=100\n",
    "ir=4\n",
    "while i<11:\n",
    "    final=initial*(1+ir/100)**i\n",
    "    print(f\"After {i} years, the final amount is {final:.2f}\")\n",
    "    i += 1 #this is the same as i=i+1 #update the value of i\n",
    "\n",
    "print(\"done\")"
   ]
  },
  {
   "cell_type": "markdown",
   "metadata": {},
   "source": [
    "Write a loop that calculates the sum of all untergers from 1 to N and print the result using a WHILE loop\n"
   ]
  },
  {
   "cell_type": "code",
   "execution_count": 15,
   "metadata": {},
   "outputs": [
    {
     "name": "stdout",
     "output_type": "stream",
     "text": [
      "0\n",
      "1\n",
      "3\n",
      "6\n",
      "10\n",
      "15\n",
      "21\n",
      "28\n",
      "36\n",
      "45\n",
      "55\n"
     ]
    }
   ],
   "source": [
    "i=0\n",
    "num=0\n",
    "while i<11:\n",
    "    num =num+i\n",
    "    print(num)\n",
    "    i += 1"
   ]
  },
  {
   "cell_type": "markdown",
   "metadata": {},
   "source": [
    "CLASS 2"
   ]
  },
  {
   "cell_type": "markdown",
   "metadata": {},
   "source": [
    "FUNCTIONS"
   ]
  },
  {
   "cell_type": "code",
   "execution_count": null,
   "metadata": {},
   "outputs": [],
   "source": [
    "def final_amount(initial, years):\n",
    "    \"\"\"_summary_\n",
    "\n",
    "    Args:\n",
    "        initial (_type_): _description_\n",
    "        years (_type_): _description_\n",
    "\n",
    "    Returns:\n",
    "        _type_: _description_\n",
    "    \"\"\"\n",
    "    rate=5\n",
    "    return initial*(1+rate/100)**years"
   ]
  },
  {
   "cell_type": "code",
   "execution_count": 2,
   "metadata": {},
   "outputs": [
    {
     "data": {
      "text/plain": [
       "140.71004226562505"
      ]
     },
     "execution_count": 2,
     "metadata": {},
     "output_type": "execute_result"
    }
   ],
   "source": [
    "final_amount(100,7)"
   ]
  },
  {
   "cell_type": "code",
   "execution_count": 10,
   "metadata": {},
   "outputs": [],
   "source": [
    "def suma1aN(n):\n",
    "    \"\"\"_Funcion que suma todos los números de 1 hasta el N que le pongas_\n",
    "\n",
    "    Args:\n",
    "        N (interger):_numero hasta el que sumas_\n",
    "\n",
    "    Returns:\n",
    "        suma:_devuelve el valor de la suma_\n",
    "    \"\"\"\n",
    "    suma=0\n",
    "    for i in range(n+1):\n",
    "        suma=suma+i\n",
    "    return suma    "
   ]
  },
  {
   "cell_type": "code",
   "execution_count": 4,
   "metadata": {},
   "outputs": [
    {
     "data": {
      "text/plain": [
       "55"
      ]
     },
     "execution_count": 4,
     "metadata": {},
     "output_type": "execute_result"
    }
   ],
   "source": [
    "suma1aN(10)"
   ]
  },
  {
   "cell_type": "markdown",
   "metadata": {},
   "source": [
    "Write a function that calculates the area and the circunference of a circle"
   ]
  },
  {
   "cell_type": "code",
   "execution_count": 11,
   "metadata": {},
   "outputs": [],
   "source": [
    "from math import pi"
   ]
  },
  {
   "cell_type": "code",
   "execution_count": 14,
   "metadata": {},
   "outputs": [],
   "source": [
    "def func_area_perimetro(r):\n",
    "    \"\"\"_summary_\n",
    "\n",
    "    Args:\n",
    "        r (float): El radio del circulo del que queremos calcular el área y el perímetro\n",
    "\n",
    "    Returns:\n",
    "        area, perimetro: Devuelve el área y el perímetro del círculo\n",
    "    \"\"\"\n",
    "    area=2*pi*r\n",
    "    perimetro=pi*r**2\n",
    "    return area, perimetro\n"
   ]
  },
  {
   "cell_type": "code",
   "execution_count": 15,
   "metadata": {},
   "outputs": [
    {
     "data": {
      "text/plain": [
       "(6.283185307179586, 3.141592653589793)"
      ]
     },
     "execution_count": 15,
     "metadata": {},
     "output_type": "execute_result"
    }
   ],
   "source": [
    "func_area_perimetro(1)\n"
   ]
  },
  {
   "cell_type": "markdown",
   "metadata": {},
   "source": [
    "not all functions have to return something"
   ]
  },
  {
   "cell_type": "code",
   "execution_count": 16,
   "metadata": {},
   "outputs": [],
   "source": [
    "def silly(input):\n",
    "    print(input)"
   ]
  },
  {
   "cell_type": "code",
   "execution_count": 17,
   "metadata": {},
   "outputs": [
    {
     "name": "stdout",
     "output_type": "stream",
     "text": [
      "hi\n"
     ]
    }
   ],
   "source": [
    "silly(\"hi\")"
   ]
  },
  {
   "cell_type": "code",
   "execution_count": 18,
   "metadata": {},
   "outputs": [],
   "source": [
    "def final_amount(initial, years, rate=5):\n",
    "    return initial*(1+rate/100)**years"
   ]
  },
  {
   "cell_type": "code",
   "execution_count": 20,
   "metadata": {},
   "outputs": [
    {
     "name": "stdout",
     "output_type": "stream",
     "text": [
      "140.71004226562505\n",
      "150.36302589913606\n"
     ]
    }
   ],
   "source": [
    "print(final_amount(100,7))\n",
    "print(final_amount(100,7,6))"
   ]
  },
  {
   "cell_type": "markdown",
   "metadata": {},
   "source": [
    "IF FUNCTIONS"
   ]
  },
  {
   "cell_type": "code",
   "execution_count": 22,
   "metadata": {},
   "outputs": [],
   "source": [
    "def heaviside(x,a,b):\n",
    "    f=0\n",
    "    if a<=x<=b:\n",
    "        f=1\n",
    "    return f"
   ]
  },
  {
   "cell_type": "code",
   "execution_count": 23,
   "metadata": {},
   "outputs": [
    {
     "data": {
      "text/plain": [
       "1"
      ]
     },
     "execution_count": 23,
     "metadata": {},
     "output_type": "execute_result"
    }
   ],
   "source": [
    "heaviside(1,0,2)\n"
   ]
  },
  {
   "cell_type": "markdown",
   "metadata": {},
   "source": [
    "EXERCISE"
   ]
  },
  {
   "cell_type": "code",
   "execution_count": 24,
   "metadata": {},
   "outputs": [],
   "source": [
    "def interes(initial, years):\n",
    "    if initial<=1000:\n",
    "        return initial*(1+5/100)**years\n",
    "    elif 1000<initial<=10000:\n",
    "        return initial*(1+6/100)**years\n",
    "    else:\n",
    "        return initial*(1+8/100)**years\n"
   ]
  },
  {
   "cell_type": "code",
   "execution_count": 28,
   "metadata": {},
   "outputs": [
    {
     "name": "stdout",
     "output_type": "stream",
     "text": [
      "342764.8537559042\n",
      "342764.8537559042\n"
     ]
    }
   ],
   "source": [
    "print(interes(200000, 7))\n",
    "print(final_amount(200000,7,8))"
   ]
  },
  {
   "cell_type": "markdown",
   "metadata": {},
   "source": [
    "LISTS"
   ]
  },
  {
   "cell_type": "code",
   "execution_count": null,
   "metadata": {},
   "outputs": [
    {
     "name": "stdout",
     "output_type": "stream",
     "text": [
      "[1, 2, 3, 'hola']\n"
     ]
    }
   ],
   "source": [
    "lista=[1,2,3,\"hola\"]#listas pueden tener diferentes tipos de datos\n",
    "print(lista)"
   ]
  },
  {
   "cell_type": "code",
   "execution_count": 32,
   "metadata": {},
   "outputs": [
    {
     "name": "stdout",
     "output_type": "stream",
     "text": [
      "1\n",
      "2\n",
      "3\n",
      "hola\n",
      "hola\n",
      "3\n"
     ]
    }
   ],
   "source": [
    "print(lista[0]) #lists start at 0, and to call an element of the list you use the command list[n] where n is the position of the element in the list\n",
    "print(lista[1])\n",
    "print(lista[2]) \n",
    "print(lista[3])\n",
    "print(lista[-1]) #this will print the last element of the list\n",
    "print(lista[-2]) #this will print the penultimate element of the list"
   ]
  },
  {
   "cell_type": "code",
   "execution_count": 33,
   "metadata": {},
   "outputs": [
    {
     "data": {
      "text/plain": [
       "4"
      ]
     },
     "execution_count": 33,
     "metadata": {},
     "output_type": "execute_result"
    }
   ],
   "source": [
    "len(lista) #this will give you the length of the list"
   ]
  },
  {
   "cell_type": "code",
   "execution_count": 39,
   "metadata": {},
   "outputs": [
    {
     "data": {
      "text/plain": [
       "0"
      ]
     },
     "execution_count": 39,
     "metadata": {},
     "output_type": "execute_result"
    }
   ],
   "source": [
    "empty=[ ]\n",
    "len(empty) "
   ]
  },
  {
   "cell_type": "code",
   "execution_count": 41,
   "metadata": {},
   "outputs": [],
   "source": [
    "lista.append(\"lol\") #this will add the element lol to the end of the list "
   ]
  },
  {
   "cell_type": "code",
   "execution_count": 42,
   "metadata": {},
   "outputs": [
    {
     "name": "stdout",
     "output_type": "stream",
     "text": [
      "[1, 2, 3, 'hola', 'lol', 4, 5, 6]\n"
     ]
    }
   ],
   "source": [
    "lista = lista + [4,5,6] #this will add the elements 4,5,6 to the end of the list\n",
    "print(lista)"
   ]
  },
  {
   "cell_type": "code",
   "execution_count": 43,
   "metadata": {},
   "outputs": [
    {
     "name": "stdout",
     "output_type": "stream",
     "text": [
      "[2, 3, 'hola', 'lol', 4, 5, 6]\n"
     ]
    }
   ],
   "source": [
    "del lista[0] #this will delete the first element of the list\n",
    "print(lista)\n"
   ]
  },
  {
   "cell_type": "markdown",
   "metadata": {},
   "source": [
    "EXERCISE"
   ]
  },
  {
   "cell_type": "code",
   "execution_count": 49,
   "metadata": {},
   "outputs": [],
   "source": [
    "def listainteres(initial, years):\n",
    "    interest=[]\n",
    "    i=0\n",
    "    for i in range(years+1):\n",
    "        interest.append(initial*(1+5/100)**i)\n",
    "        i+=1\n",
    "    return interest  \n",
    "    print(listainteres(100,10))"
   ]
  },
  {
   "cell_type": "code",
   "execution_count": 50,
   "metadata": {},
   "outputs": [
    {
     "data": {
      "text/plain": [
       "[100.0,\n",
       " 105.0,\n",
       " 110.25,\n",
       " 115.76250000000002,\n",
       " 121.55062500000003,\n",
       " 127.62815625000003,\n",
       " 134.00956406250003,\n",
       " 140.71004226562505,\n",
       " 147.7455443789063,\n",
       " 155.13282159785163,\n",
       " 162.8894626777442]"
      ]
     },
     "execution_count": 50,
     "metadata": {},
     "output_type": "execute_result"
    }
   ],
   "source": [
    "listainteres(100,10)"
   ]
  },
  {
   "cell_type": "code",
   "execution_count": 52,
   "metadata": {},
   "outputs": [
    {
     "name": "stdout",
     "output_type": "stream",
     "text": [
      "adios\n"
     ]
    }
   ],
   "source": [
    "a=5.3\n",
    "if a<5:\n",
    "    print(\"hola\")\n",
    "elif a>5:\n",
    "    print(\"adios\")\n",
    "elif a==5:\n",
    "    print(\"chao\")\n",
    "    "
   ]
  },
  {
   "cell_type": "markdown",
   "metadata": {},
   "source": [
    "lists are linked, so if L1=L2 and you change things from L1 they will be changed from L1 also. For this to not happen, we do L1=.copyL2"
   ]
  },
  {
   "cell_type": "markdown",
   "metadata": {},
   "source": [
    "There can also be lists inside of lists, its just one more element of the list"
   ]
  },
  {
   "cell_type": "code",
   "execution_count": 56,
   "metadata": {},
   "outputs": [
    {
     "name": "stdout",
     "output_type": "stream",
     "text": [
      "[0, 1, 2, 3, 4, 5, 6, 7, 8, 9, 10]\n",
      "[0, 2, 4, 6, 8, 10]\n"
     ]
    }
   ],
   "source": [
    "lista1=[0,1,2,3,4,5,6,7,8,9,10]\n",
    "print(lista1)\n",
    "print(lista1[0: len(lista1):2]) #we can print some elements of a list like list[a:b:s] where a is the first element we want to print, b is the last element we want to print and s is the step"
   ]
  },
  {
   "cell_type": "markdown",
   "metadata": {},
   "source": [
    "CLASS 3: NUMPY"
   ]
  },
  {
   "cell_type": "markdown",
   "metadata": {},
   "source": [
    "We are going to use some python libraries (they are very usefull when coding)"
   ]
  },
  {
   "cell_type": "code",
   "execution_count": 1,
   "metadata": {},
   "outputs": [],
   "source": [
    "#The first lines of your code should import all the libraries and functions you are using throughout your code\n",
    "import os #this is a library that allows you to interact with the operating system\n",
    "import scipy\n",
    "import numpy as np #this way, when you want to call a function from numpy, you can just write np.function instead of numpy.function\n",
    "import matplotlib.pyplot as plt \n"
   ]
  },
  {
   "cell_type": "code",
   "execution_count": 2,
   "metadata": {},
   "outputs": [
    {
     "name": "stdout",
     "output_type": "stream",
     "text": [
      "1.4142135623730951\n"
     ]
    }
   ],
   "source": [
    "root=np.sqrt(2)\n",
    "print(root)"
   ]
  },
  {
   "cell_type": "markdown",
   "metadata": {},
   "source": [
    "creating numpy array"
   ]
  },
  {
   "cell_type": "code",
   "execution_count": 3,
   "metadata": {},
   "outputs": [],
   "source": [
    "vec=np.array([1,2,3])\n",
    "A=np.array([[1,2,3],[4,5,6],[7,8,9]])\n",
    "B=np.array([[[1,2],[3,4],[5,6]],[[7,8],[9,10],[11,12]]])"
   ]
  },
  {
   "cell_type": "code",
   "execution_count": 4,
   "metadata": {},
   "outputs": [
    {
     "name": "stdout",
     "output_type": "stream",
     "text": [
      "(3,)\n",
      "(3, 3)\n",
      "(2, 3, 2)\n"
     ]
    }
   ],
   "source": [
    "print(vec.shape)\n",
    "print(A.shape)\n",
    "print(B.shape)"
   ]
  },
  {
   "cell_type": "code",
   "execution_count": 5,
   "metadata": {},
   "outputs": [
    {
     "name": "stdout",
     "output_type": "stream",
     "text": [
      "[1 2 3]\n",
      "[[1 2 3]\n",
      " [4 5 6]\n",
      " [7 8 9]]\n",
      "[[[ 1  2]\n",
      "  [ 3  4]\n",
      "  [ 5  6]]\n",
      "\n",
      " [[ 7  8]\n",
      "  [ 9 10]\n",
      "  [11 12]]]\n"
     ]
    }
   ],
   "source": [
    "print(vec)\n",
    "print(A)\n",
    "print(B)"
   ]
  },
  {
   "cell_type": "code",
   "execution_count": 6,
   "metadata": {},
   "outputs": [
    {
     "name": "stdout",
     "output_type": "stream",
     "text": [
      "3\n",
      "9\n",
      "12\n"
     ]
    }
   ],
   "source": [
    "print(vec.size)\n",
    "print(A.size)\n",
    "print(B.size)\n"
   ]
  },
  {
   "cell_type": "code",
   "execution_count": 7,
   "metadata": {},
   "outputs": [
    {
     "name": "stdout",
     "output_type": "stream",
     "text": [
      "(3, 3)\n"
     ]
    }
   ],
   "source": [
    "print(np.shape(A))\n"
   ]
  },
  {
   "cell_type": "code",
   "execution_count": 8,
   "metadata": {},
   "outputs": [
    {
     "data": {
      "text/plain": [
       "dtype('int64')"
      ]
     },
     "execution_count": 8,
     "metadata": {},
     "output_type": "execute_result"
    }
   ],
   "source": [
    "A.dtype"
   ]
  },
  {
   "cell_type": "code",
   "execution_count": 9,
   "metadata": {},
   "outputs": [],
   "source": [
    "M2=np.array([[1,2],[3,4]], dtype=complex)"
   ]
  },
  {
   "cell_type": "markdown",
   "metadata": {},
   "source": [
    "generating functions: functions that generate arrays"
   ]
  },
  {
   "cell_type": "code",
   "execution_count": 10,
   "metadata": {},
   "outputs": [
    {
     "name": "stdout",
     "output_type": "stream",
     "text": [
      "[0 1 2 3 4 5 6 7 8 9]\n",
      "[-1.00000000e+00 -9.00000000e-01 -8.00000000e-01 -7.00000000e-01\n",
      " -6.00000000e-01 -5.00000000e-01 -4.00000000e-01 -3.00000000e-01\n",
      " -2.00000000e-01 -1.00000000e-01 -2.22044605e-16  1.00000000e-01\n",
      "  2.00000000e-01  3.00000000e-01  4.00000000e-01  5.00000000e-01\n",
      "  6.00000000e-01  7.00000000e-01  8.00000000e-01  9.00000000e-01]\n"
     ]
    }
   ],
   "source": [
    "v=np.arange(0,10,1) #this will create a list of numbers from 0 to 9 in steps of 1\n",
    "print(v)\n",
    "\n",
    "V=np.arange(-1,1,0.1)\n",
    "print(V)"
   ]
  },
  {
   "cell_type": "code",
   "execution_count": 11,
   "metadata": {},
   "outputs": [
    {
     "name": "stdout",
     "output_type": "stream",
     "text": [
      "[ 0.  1.  2.  3.  4.  5.  6.  7.  8.  9. 10.]\n",
      "[-1.  -0.9 -0.8 -0.7 -0.6 -0.5 -0.4 -0.3 -0.2 -0.1  0.   0.1  0.2  0.3\n",
      "  0.4  0.5  0.6  0.7  0.8  0.9  1. ]\n"
     ]
    }
   ],
   "source": [
    "v=np.linspace(0,10,11) #this will create a list of numbers from 0 to 10 with 11 elements\n",
    "print(v)\n",
    "\n",
    "v=np.linspace(-1,1,21)\n",
    "print(v)"
   ]
  },
  {
   "cell_type": "code",
   "execution_count": 12,
   "metadata": {},
   "outputs": [
    {
     "name": "stdout",
     "output_type": "stream",
     "text": [
      "[0 0]\n",
      "[[0. 0. 0.]\n",
      " [0. 0. 0.]\n",
      " [0. 0. 0.]]\n",
      "[[[0. 0. 0.]\n",
      "  [0. 0. 0.]\n",
      "  [0. 0. 0.]]\n",
      "\n",
      " [[0. 0. 0.]\n",
      "  [0. 0. 0.]\n",
      "  [0. 0. 0.]]]\n"
     ]
    }
   ],
   "source": [
    "Z1=np.zeros(2, dtype=int)\n",
    "Z2=np.zeros((3,3))\n",
    "Z3=np.zeros((2,3,3))\n",
    "print(Z1)\n",
    "print(Z2)\n",
    "print(Z3)\n",
    "            "
   ]
  },
  {
   "cell_type": "code",
   "execution_count": 13,
   "metadata": {},
   "outputs": [
    {
     "name": "stdout",
     "output_type": "stream",
     "text": [
      "[[1. 0. 0. 0.]\n",
      " [0. 1. 0. 0.]\n",
      " [0. 0. 1. 0.]\n",
      " [0. 0. 0. 1.]]\n",
      "[[1 0 0 0]\n",
      " [0 2 0 0]\n",
      " [0 0 3 0]\n",
      " [0 0 0 4]]\n",
      "[[0.59332966 0.21162032 0.31327299 0.23495071 0.63601072]\n",
      " [0.52160932 0.26936611 0.57610859 0.89905231 0.33424389]\n",
      " [0.30467665 0.42667421 0.0573176  0.4980007  0.73189251]\n",
      " [0.56556119 0.73028429 0.47641666 0.99398525 0.02789327]\n",
      " [0.98733755 0.72106926 0.09127399 0.09721317 0.74129251]]\n"
     ]
    }
   ],
   "source": [
    "Identity=np.eye(4)#this will create a 4x4 identity matrix\n",
    "Diagonal=np.diag([1,2,3,4])#this will create a diagonal matrix with the elements of the list\n",
    "Random=np.random.rand(5,5)#this will create a 5x5 matrix with random numbers between 0 and 1\n",
    "print(Identity)\n",
    "print(Diagonal)\n",
    "print(Random)\n"
   ]
  },
  {
   "cell_type": "code",
   "execution_count": 29,
   "metadata": {},
   "outputs": [
    {
     "name": "stdout",
     "output_type": "stream",
     "text": [
      "[0. 0. 0. 1.]\n",
      "[]\n"
     ]
    }
   ],
   "source": [
    "print(Identity[-1])\n",
    "print(Identity[1:1])"
   ]
  },
  {
   "cell_type": "code",
   "execution_count": null,
   "metadata": {},
   "outputs": [],
   "source": []
  }
 ],
 "metadata": {
  "kernelspec": {
   "display_name": "base",
   "language": "python",
   "name": "python3"
  },
  "language_info": {
   "codemirror_mode": {
    "name": "ipython",
    "version": 3
   },
   "file_extension": ".py",
   "mimetype": "text/x-python",
   "name": "python",
   "nbconvert_exporter": "python",
   "pygments_lexer": "ipython3",
   "version": "3.12.8"
  }
 },
 "nbformat": 4,
 "nbformat_minor": 2
}
