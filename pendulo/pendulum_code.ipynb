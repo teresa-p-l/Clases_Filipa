{
 "cells": [
  {
   "cell_type": "markdown",
   "metadata": {},
   "source": [
    "# Gravitational acceletarion in a pendulum experiment"
   ]
  },
  {
   "cell_type": "code",
   "execution_count": 2,
   "metadata": {},
   "outputs": [],
   "source": [
    "import numpy as np\n",
    "import scipy\n",
    "import matplotlib.pyplot as plt\n",
    "import os"
   ]
  },
  {
   "cell_type": "markdown",
   "metadata": {},
   "source": [
    "### Reading the data and saving it"
   ]
  },
  {
   "cell_type": "code",
   "execution_count": 3,
   "metadata": {},
   "outputs": [
    {
     "name": "stdout",
     "output_type": "stream",
     "text": [
      "[[20.05640437 20.05963423 20.02880293 20.04919752 20.05982868 20.11173776\n",
      "  20.05356595 20.04985033 20.11175868 20.04829324]\n",
      " [21.03777478 21.04944117 21.02840233 21.06328741 21.04521451 21.02027374\n",
      "  21.04115401 21.02989434 21.05528146 21.04242142]\n",
      " [21.93958408 21.97215824 22.00763047 21.99300118 21.98663794 21.98032397\n",
      "  21.96255416 21.99397498 21.96471993 21.9828847 ]\n",
      " [22.86238279 22.87286153 22.88663756 22.90760653 22.86880205 22.86750249\n",
      "  22.86246088 22.87985097 22.85209103 22.85472628]\n",
      " [23.75487852 23.73839293 23.74543798 23.77058917 23.75024196 23.744397\n",
      "  23.73288188 23.75120172 23.75843325 23.72692261]\n",
      " [24.58795283 24.58688659 24.59157578 24.5610537  24.59750397 24.56669837\n",
      "  24.57771734 24.58279614 24.57137225 24.5737635 ]\n",
      " [25.38105036 25.43665015 25.39019652 25.38059754 25.36748456 25.39635288\n",
      "  25.38204713 25.37662751 25.39220239 25.37077851]\n",
      " [26.14205458 26.14853358 26.11334155 26.1595095  26.14412089 26.18612295\n",
      "  26.1450315  26.17082307 26.15433138 26.14769478]\n",
      " [26.95026898 26.88256896 26.91727111 26.91949442 26.91372546 26.89236723\n",
      "  26.91077927 26.91078717 26.9195107  26.93376877]\n",
      " [27.64371938 27.68469208 27.65919854 27.64758219 27.64763431 27.64285466\n",
      "  27.64444105 27.65157463 27.64676272 27.68987377]\n",
      " [28.36293626 28.41206891 28.41142395 28.33268258 28.42706527 28.37274101\n",
      "  28.37035553 28.37931123 28.38557594 28.36518258]]\n"
     ]
    }
   ],
   "source": [
    "path = \"\\\\Users\\\\Teresa\\\\Desktop\\\\COMPU\\\\Clases_Filipa\\\\Clases_Filipa\\\\pendulo\"\n",
    "data = np.load(path + '\\\\datos.npy')\n",
    "#print(np.shape(data))\n",
    "\n",
    "# We make 2 vectors, one with the different lenghts and the other with the respective errors\n",
    "l=data[:, 0].copy()\n",
    "l_err=data[:, 1].copy()\n",
    "\n",
    "# We make a matrix with the times for 10 oscillations, each row is a different oscillation lenght \n",
    "time=np.zeros((11,10))\n",
    "for i in range(0,11):\n",
    "   for j in range(2,12):\n",
    "      time[i,j-2]=data[i,j]\n",
    "      j+=1\n",
    "   i=i+1\n",
    "\n",
    "print(time)\n",
    "#print(data) \n",
    "#print(l)\n"
   ]
  },
  {
   "cell_type": "markdown",
   "metadata": {},
   "source": [
    "### We make a function that calculates the average of the time it takes to make 10 oscillations (two options)"
   ]
  },
  {
   "cell_type": "code",
   "execution_count": 4,
   "metadata": {},
   "outputs": [
    {
     "name": "stdout",
     "output_type": "stream",
     "text": [
      "20.062907369751297 0.025798706204627386\n"
     ]
    }
   ],
   "source": [
    "# First option: we make the average of the times from a vector of times, but I do not know what error to assign\n",
    "\n",
    "def average_time1(t, n):\n",
    "    \"\"\"It calculates the average of a vector t of n components\n",
    "\n",
    "    Args:\n",
    "        t (array): vector of n components\n",
    "        n (int): dimension of the vector\n",
    "\n",
    "    Returns:\n",
    "        float: average of the vector t\n",
    "    \"\"\"\n",
    "\n",
    "    average = 0\n",
    "    desvest = 0\n",
    "    for i in range(0, n):\n",
    "        average += t[i]\n",
    "    \n",
    "    desvest = np.std(t)\n",
    "    result = [average / n, desvest]\n",
    "    return result\n",
    "\n",
    "\n",
    "print(average_time1(time[0, :], 10)[0], average_time1(time[0, :], 10)[1])"
   ]
  },
  {
   "cell_type": "code",
   "execution_count": 5,
   "metadata": {},
   "outputs": [
    {
     "name": "stdout",
     "output_type": "stream",
     "text": [
      "20.070899231544928 1.0035449615772467\n"
     ]
    }
   ],
   "source": [
    "# Second option: we calculate the period for a lenght and multiply it 10 times, and calculate the error with the error propagation formula\n",
    "\n",
    "def average_time2(l, error_l):\n",
    "    \"\"\"Calculates the time it takes for 10 oscillations for a pendulum of length l and its error\n",
    "\n",
    "    Args:\n",
    "        l (float): lenght of the pendulum\n",
    "        error_l (float): error in the lenght of the pendulum\n",
    "\n",
    "    Returns:\n",
    "        array: the first coordinate is the time it takes for 10 oscillations and the second coordinate is the error in the time\n",
    "    \"\"\"\n",
    "\n",
    "\n",
    "    time=0\n",
    "    error=0\n",
    "\n",
    "    time=10*2*np.pi*np.sqrt(l/9.8)\n",
    "    error=10*np.pi*error_l*np.sqrt(1/(error_l*9.8))\n",
    "    solve=[time, error]\n",
    "\n",
    "    return solve\n",
    "\n",
    "\n",
    "print(average_time2(l[0],l_err[0])[0],average_time2(l[0],l_err[0])[1])"
   ]
  },
  {
   "cell_type": "markdown",
   "metadata": {},
   "source": [
    "### We plot the period as a function of its length"
   ]
  },
  {
   "cell_type": "code",
   "execution_count": 6,
   "metadata": {},
   "outputs": [
    {
     "name": "stdout",
     "output_type": "stream",
     "text": [
      "hwe\n"
     ]
    },
    {
     "data": {
      "image/png": "[encoded data removed]",
      "text/plain": [
       "<Figure size 640x480 with 1 Axes>"
      ]
     },
     "metadata": {},
     "output_type": "display_data"
    }
   ],
   "source": [
    "# To do this, we need to get the period for each length and its error in two separate vectors (for simplicity)\n",
    "\n",
    "p=np.zeros(11)\n",
    "p_err=np.zeros(11)\n",
    "for i in range(0,11):\n",
    "    for j in range(0,10):\n",
    "    \n",
    "        p[i]=average_time1(time[i,:],10)[0]/10\n",
    "        p_err[i]=average_time1(time[i,:],10)[1]/10\n",
    "        j +=1\n",
    "    i + 1\n",
    "\n",
    "# Now we plot the period \n",
    "\n",
    "\n",
    "plt.rcParams['text.usetex'] = True  \n",
    "\n",
    "plt.plot(l,p, label = r'period')\n",
    "#plt.xlabel(r'$\\theta$', fontsize = 16)           \n",
    "#plt.ylabel(r'$\\sin(\\theta)$', fontsize = 16)     \n",
    "\n",
    "print('hwe')                            \n",
    "#plt.title(r'\\textbf{My second plot}', fontsize = 20)        \n",
    "#plt.axis([0, 2*np.pi, -1,1])  # Sets the length of the two axis. (Compare with the previous one)\n",
    "plt.show()"
   ]
  },
  {
   "cell_type": "code",
   "execution_count": null,
   "metadata": {},
   "outputs": [],
   "source": []
  }
 ],
 "metadata": {
  "kernelspec": {
   "display_name": "base",
   "language": "python",
   "name": "python3"
  },
  "language_info": {
   "codemirror_mode": {
    "name": "ipython",
    "version": 3
   },
   "file_extension": ".py",
   "mimetype": "text/x-python",
   "name": "python",
   "nbconvert_exporter": "python",
   "pygments_lexer": "ipython3",
   "version": "3.12.8"
  }
 },
 "nbformat": 4,
 "nbformat_minor": 2
}
