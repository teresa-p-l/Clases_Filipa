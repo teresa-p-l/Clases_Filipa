{
 "cells": [
  {
   "cell_type": "code",
   "execution_count": 1,
   "metadata": {},
   "outputs": [
    {
     "name": "stdout",
     "output_type": "stream",
     "text": [
      "hi\n"
     ]
    }
   ],
   "source": [
    "print(\"hi\")"
   ]
  },
  {
   "cell_type": "code",
   "execution_count": 2,
   "metadata": {},
   "outputs": [
    {
     "name": "stdout",
     "output_type": "stream",
     "text": [
      "140.71004226562505\n"
     ]
    }
   ],
   "source": [
    "initial = 100\n",
    "ir=5\n",
    "years=7\n",
    "final = initial*(1+ir/100)**years\n",
    "print(final)"
   ]
  },
  {
   "cell_type": "code",
   "execution_count": 3,
   "metadata": {},
   "outputs": [
    {
     "data": {
      "text/plain": [
       "True"
      ]
     },
     "execution_count": 3,
     "metadata": {},
     "output_type": "execute_result"
    }
   ],
   "source": [
    "initial == 100"
   ]
  },
  {
   "cell_type": "code",
   "execution_count": 4,
   "metadata": {},
   "outputs": [
    {
     "data": {
      "text/plain": [
       "False"
      ]
     },
     "execution_count": 4,
     "metadata": {},
     "output_type": "execute_result"
    }
   ],
   "source": [
    "initial ==200"
   ]
  },
  {
   "cell_type": "code",
   "execution_count": 5,
   "metadata": {},
   "outputs": [
    {
     "name": "stdout",
     "output_type": "stream",
     "text": [
      "100\n",
      "200\n"
     ]
    }
   ],
   "source": [
    "print(initial)\n",
    "initial = 200\n",
    "print(initial)\n"
   ]
  },
  {
   "cell_type": "code",
   "execution_count": 6,
   "metadata": {},
   "outputs": [],
   "source": [
    "initial = 100\n"
   ]
  },
  {
   "cell_type": "code",
   "execution_count": 7,
   "metadata": {},
   "outputs": [
    {
     "name": "stdout",
     "output_type": "stream",
     "text": [
      "<class 'str'>\n",
      "<class 'int'>\n",
      "<class 'float'>\n",
      "<class 'str'>\n",
      "<class 'bool'>\n"
     ]
    }
   ],
   "source": [
    "name=\"My name is Teresa\" #string\n",
    "a=2 #integer\n",
    "b=2. #float\n",
    "c=\"2\" #string\n",
    "d=True #boolean\n",
    "\n",
    "print(type(name))\n",
    "print(type(a))\n",
    "print(type(b))\n",
    "print(type(c))\n",
    "print(type(d))\n"
   ]
  },
  {
   "cell_type": "code",
   "execution_count": 9,
   "metadata": {},
   "outputs": [
    {
     "name": "stdout",
     "output_type": "stream",
     "text": [
      "1.0\n",
      "0.9999999999999999\n"
     ]
    }
   ],
   "source": [
    "v1=1/51*51\n",
    "v2=1/49*49\n",
    "\n",
    "print(v1)\n",
    "print(v2)\n"
   ]
  },
  {
   "cell_type": "code",
   "execution_count": 10,
   "metadata": {},
   "outputs": [
    {
     "name": "stdout",
     "output_type": "stream",
     "text": [
      "True\n",
      "False\n"
     ]
    }
   ],
   "source": [
    "print(v1==1)\n",
    "print(v2==1)\n"
   ]
  },
  {
   "cell_type": "code",
   "execution_count": 11,
   "metadata": {},
   "outputs": [
    {
     "name": "stdout",
     "output_type": "stream",
     "text": [
      "True\n"
     ]
    }
   ],
   "source": [
    "tol=1e-10\n",
    "print(abs(v1-1)<tol)"
   ]
  },
  {
   "cell_type": "code",
   "execution_count": null,
   "metadata": {},
   "outputs": [
    {
     "name": "stdout",
     "output_type": "stream",
     "text": [
      "(3.142, 3.1416)\n"
     ]
    }
   ],
   "source": [
    "pi=3.1415926535\n",
    "print(f\"({pi:.3f}, {pi:.5})\")\n",
    "#this will print (3.142, 3.1416)\n",
    "#the :.3f means print the float with 3 decimal places and the :.4 means print the float with 4 numbers (total)\n",
    "#the f in front of the string means that it is a formatted string"
   ]
  },
  {
   "cell_type": "code",
   "execution_count": 7,
   "metadata": {},
   "outputs": [
    {
     "name": "stdout",
     "output_type": "stream",
     "text": [
      "10000000000\n",
      "A thousand times large is 1e+10\n"
     ]
    }
   ],
   "source": [
    "large=10000000000\n",
    "print(large)\n",
    "print(f\"A thousand times large is {large:g}\")\n",
    "#the command g will print the number in scientific notation if it is too large or too small"
   ]
  },
  {
   "cell_type": "markdown",
   "metadata": {},
   "source": [
    "Now we are doing loops"
   ]
  },
  {
   "cell_type": "code",
   "execution_count": 8,
   "metadata": {},
   "outputs": [],
   "source": [
    "initial=100\n",
    "ir=5\n",
    "years=7 \n",
    "final=initial*(1+ir/100)**years\n"
   ]
  },
  {
   "cell_type": "code",
   "execution_count": null,
   "metadata": {},
   "outputs": [
    {
     "name": "stdout",
     "output_type": "stream",
     "text": [
      "After 0 years, the final amount is 100.00\n",
      "After 1 years, the final amount is 105.00\n",
      "After 2 years, the final amount is 110.25\n",
      "After 3 years, the final amount is 115.76\n",
      "After 4 years, the final amount is 121.55\n",
      "After 5 years, the final amount is 127.63\n",
      "After 6 years, the final amount is 134.01\n",
      "After 7 years, the final amount is 140.71\n",
      "After 8 years, the final amount is 147.75\n",
      "After 9 years, the final amount is 155.13\n",
      "After 10 years, the final amount is 162.89\n"
     ]
    }
   ],
   "source": [
    "for i in range(11): #the command range(11) creates a list of numbers from 0 to 10, it goes from 0 to N-1 in steps of 1\n",
    "    final=initial*(1+ir/100)**i\n",
    "    print(f\"After {i} years, the final amount is {final:.2f}\")\n",
    "    #alternatively, one can creata a list startinf in a and ending in b with steps of s with the command range(a,b,s)"
   ]
  },
  {
   "cell_type": "code",
   "execution_count": 12,
   "metadata": {},
   "outputs": [
    {
     "name": "stdout",
     "output_type": "stream",
     "text": [
      "la multiplicación de 0 por 0 es igual a 0\n",
      "la multiplicación de 0 por 1 es igual a 0\n",
      "la multiplicación de 0 por 2 es igual a 0\n",
      "la multiplicación de 0 por 3 es igual a 0\n",
      "la multiplicación de 0 por 4 es igual a 0\n",
      "la multiplicación de 0 por 5 es igual a 0\n",
      "la multiplicación de 0 por 6 es igual a 0\n",
      "la multiplicación de 1 por 0 es igual a 0\n",
      "la multiplicación de 1 por 1 es igual a 1\n",
      "la multiplicación de 1 por 2 es igual a 2\n",
      "la multiplicación de 1 por 3 es igual a 3\n",
      "la multiplicación de 1 por 4 es igual a 4\n",
      "la multiplicación de 1 por 5 es igual a 5\n",
      "la multiplicación de 1 por 6 es igual a 6\n",
      "la multiplicación de 2 por 0 es igual a 0\n",
      "la multiplicación de 2 por 1 es igual a 2\n",
      "la multiplicación de 2 por 2 es igual a 4\n",
      "la multiplicación de 2 por 3 es igual a 6\n",
      "la multiplicación de 2 por 4 es igual a 8\n",
      "la multiplicación de 2 por 5 es igual a 10\n",
      "la multiplicación de 2 por 6 es igual a 12\n"
     ]
    }
   ],
   "source": [
    "for m in range(3):\n",
    "    for k in range(7): #This is a nested loop\n",
    "        print(f\"la multiplicación de {m} por {k} es igual a {m*k}\")"
   ]
  },
  {
   "cell_type": "markdown",
   "metadata": {},
   "source": [
    "Write a loop that calculates the sum of all untergers from 1 to N and print the result"
   ]
  },
  {
   "cell_type": "code",
   "execution_count": 18,
   "metadata": {},
   "outputs": [
    {
     "name": "stdout",
     "output_type": "stream",
     "text": [
      "55\n"
     ]
    }
   ],
   "source": [
    "num=0\n",
    "for i in range(11):\n",
    "    num=num+i\n",
    "\n",
    "print(num)"
   ]
  },
  {
   "cell_type": "code",
   "execution_count": 1,
   "metadata": {},
   "outputs": [
    {
     "name": "stdout",
     "output_type": "stream",
     "text": [
      "holo\n"
     ]
    }
   ],
   "source": [
    "print(\"holo\")"
   ]
  },
  {
   "cell_type": "code",
   "execution_count": null,
   "metadata": {},
   "outputs": [],
   "source": []
  }
 ],
 "metadata": {
  "kernelspec": {
   "display_name": "base",
   "language": "python",
   "name": "python3"
  },
  "language_info": {
   "codemirror_mode": {
    "name": "ipython",
    "version": 3
   },
   "file_extension": ".py",
   "mimetype": "text/x-python",
   "name": "python",
   "nbconvert_exporter": "python",
   "pygments_lexer": "ipython3",
   "version": "3.12.8"
  }
 },
 "nbformat": 4,
 "nbformat_minor": 2
}
