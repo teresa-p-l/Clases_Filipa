{
 "cells": [
  {
   "cell_type": "markdown",
   "metadata": {},
   "source": [
    "# SUMMARY OF IMPORTANT CODE\n"
   ]
  },
  {
   "cell_type": "markdown",
   "metadata": {},
   "source": [
    "## LOOPS"
   ]
  },
  {
   "cell_type": "code",
   "execution_count": 1,
   "metadata": {},
   "outputs": [
    {
     "name": "stdout",
     "output_type": "stream",
     "text": [
      "1\n",
      "2\n",
      "3\n",
      "4\n",
      "5\n"
     ]
    }
   ],
   "source": [
    "x=0\n",
    "for i in range(5):\n",
    "    x=x+1\n",
    "    print(x)\n",
    "    i=i+1"
   ]
  },
  {
   "cell_type": "code",
   "execution_count": 3,
   "metadata": {},
   "outputs": [
    {
     "name": "stdout",
     "output_type": "stream",
     "text": [
      "Esto se repite 0 veces\n",
      "Esto se repite 1 veces\n",
      "Esto se repite 2 veces\n",
      "Esto se repite 3 veces\n",
      "Esto se repite 4 veces\n"
     ]
    }
   ],
   "source": [
    "i=0\n",
    "while i<5:\n",
    "    print(\"Esto se repite\", i, \"veces\")\n",
    "    i+=1"
   ]
  },
  {
   "cell_type": "markdown",
   "metadata": {},
   "source": [
    "## BOOLEAN LOGIC\n"
   ]
  },
  {
   "cell_type": "code",
   "execution_count": 4,
   "metadata": {},
   "outputs": [
    {
     "name": "stdout",
     "output_type": "stream",
     "text": [
      "False\n",
      "True\n",
      "True\n",
      "False\n",
      "True\n",
      "False\n"
     ]
    }
   ],
   "source": [
    "a = 0\n",
    "b = 1.2\n",
    "print(a >= 0 and b < 1)\n",
    "print(a >= 0 or b < 1)\n",
    "print(a > 0 or b > 1)\n",
    "print(a > 0 or not b > 1)\n",
    "print(-1 < a <= 0)\n",
    "print(not (a > 0 or b > 0))"
   ]
  },
  {
   "cell_type": "markdown",
   "metadata": {},
   "source": [
    "## FUNCTIONS"
   ]
  },
  {
   "cell_type": "markdown",
   "metadata": {},
   "source": [
    "def function_name(argument_1, argument_2):\n",
    "    local_variable_1 = value_1\n",
    "    local_variable_2 = value_2\n",
    "    return expression"
   ]
  },
  {
   "cell_type": "code",
   "execution_count": 5,
   "metadata": {},
   "outputs": [
    {
     "data": {
      "text/plain": [
       "3.0"
      ]
     },
     "execution_count": 5,
     "metadata": {},
     "output_type": "execute_result"
    }
   ],
   "source": [
    "def funcion_raiz(x, n):\n",
    "    \"\"\"_RAIZ_\n",
    "\n",
    "    Args:\n",
    "        x (float): number to make the root of\n",
    "        n (int): value of the root\n",
    "\n",
    "    Returns:\n",
    "        float: nth root of x\n",
    "    \"\"\"\n",
    "    return x**(1/n)\n",
    "\n",
    "funcion_raiz(27, 3)"
   ]
  },
  {
   "cell_type": "markdown",
   "metadata": {},
   "source": [
    "## IF STATEMENTS"
   ]
  },
  {
   "cell_type": "code",
   "execution_count": null,
   "metadata": {},
   "outputs": [
    {
     "name": "stdout",
     "output_type": "stream",
     "text": [
      "False\n",
      "True\n"
     ]
    }
   ],
   "source": [
    "def heaviside1(x,a,b):\n",
    "    f=False\n",
    "    if a <= x <= b:    #This way you use onlu one if\n",
    "        f=True\n",
    "    return f\n",
    "\n",
    "print(heaviside1(0,10,20))\n",
    "print(heaviside1(11, 10, 20))\n"
   ]
  },
  {
   "cell_type": "markdown",
   "metadata": {},
   "source": [
    "We can also make elif statements and else statements that work the same way the if statement works."
   ]
  },
  {
   "cell_type": "markdown",
   "metadata": {},
   "source": [
    "## LISTS"
   ]
  },
  {
   "cell_type": "code",
   "execution_count": 20,
   "metadata": {},
   "outputs": [
    {
     "name": "stdout",
     "output_type": "stream",
     "text": [
      "3\n",
      "[1, 2, 3, 'hola', 4]\n",
      "[1, 2, 3]\n",
      "[2, 3]\n",
      "[1, 2, 3, 'hola', 4]\n"
     ]
    }
   ],
   "source": [
    "lista1=[1,2,3,\"hola\"]\n",
    "lista1.append(4)    #Add an element at the end of the list\n",
    "print(lista1[2])    #Print the third element of the list\n",
    "len(lista1)    #Print the length of the list\n",
    "print(lista1)\n",
    "print(lista1[:3])   #Print the first three elements of the list\n",
    "print(lista1[1:3])  #Print the second and third elements of the list\n",
    "print(lista1[:])   \n"
   ]
  },
  {
   "cell_type": "code",
   "execution_count": 21,
   "metadata": {},
   "outputs": [
    {
     "data": {
      "text/plain": [
       "0"
      ]
     },
     "execution_count": 21,
     "metadata": {},
     "output_type": "execute_result"
    }
   ],
   "source": [
    "empty=[]\n",
    "len(empty)"
   ]
  },
  {
   "cell_type": "code",
   "execution_count": 22,
   "metadata": {},
   "outputs": [
    {
     "name": "stdout",
     "output_type": "stream",
     "text": [
      "[1, 2, 3, 'hola', 4, 5, 6, 7]\n",
      "[1, 2, 3, 4, 5, 6, 7]\n"
     ]
    }
   ],
   "source": [
    "lista1=lista1+[5,6,7]    #Add elements to the list\n",
    "print(lista1)   \n",
    "del lista1[3]    #Delete the fourth element of the list\n",
    "print(lista1)"
   ]
  },
  {
   "cell_type": "code",
   "execution_count": 23,
   "metadata": {},
   "outputs": [
    {
     "name": "stdout",
     "output_type": "stream",
     "text": [
      "[[1, 2, 3, 4, 5, 6, 7], [1, 2, 3], [4, 5, 6]]\n"
     ]
    },
    {
     "data": {
      "text/plain": [
       "4"
      ]
     },
     "execution_count": 23,
     "metadata": {},
     "output_type": "execute_result"
    }
   ],
   "source": [
    "nest=[lista1, [1,2,3], [4,5,6]]\n",
    "print(nest)\n",
    "nest[0][3]    #Print the fourth element of the first list\n",
    "\n"
   ]
  },
  {
   "cell_type": "code",
   "execution_count": null,
   "metadata": {},
   "outputs": [],
   "source": []
  }
 ],
 "metadata": {
  "kernelspec": {
   "display_name": "base",
   "language": "python",
   "name": "python3"
  },
  "language_info": {
   "codemirror_mode": {
    "name": "ipython",
    "version": 3
   },
   "file_extension": ".py",
   "mimetype": "text/x-python",
   "name": "python",
   "nbconvert_exporter": "python",
   "pygments_lexer": "ipython3",
   "version": "3.12.8"
  }
 },
 "nbformat": 4,
 "nbformat_minor": 2
}
